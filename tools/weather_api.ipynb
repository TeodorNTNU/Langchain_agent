import requests
from geopy.geocoders import Nominatim
import dateparser
from datetime import datetime

# Function to get coordinates
def get_coordinates(city_name):
    geolocator = Nominatim(user_agent="weather_api")
    location = geolocator.geocode(city_name)
    if location:
        return location.latitude, location.longitude
    else:
        return None

# Function to get the nearest source ID
def get_nearest_source_id(latitude, longitude):
    api_key = 'your_api_key'
    headers = {
        'Authorization': f'Bearer {api_key}'
    }
    endpoint = 'https://frost.met.no/sources/v0.jsonld'
    parameters = {
        'geometry': f'nearest(POINT({longitude} {latitude}))'
    }

    response = requests.get(endpoint, headers=headers, params=parameters)

    if response.status_code == 200:
        data = response.json()
        if data['data']:
            return data['data'][0]['id']
        else:
            return None
    else:
        return None

# Function to parse human query into datetime
def parse_human_query(time_query):
    date = dateparser.parse(time_query)
    if date:
        return date
    else:
        return None

# Function to call the Frost API with coordinates and dynamic referencetime
def get_weather_data(city_name, time_query):
    coordinates = get_coordinates(city_name)
    if not coordinates:
        return {"error": "City not found"}
    
    latitude, longitude = coordinates
    source_id = get_nearest_source_id(latitude, longitude)
    if not source_id:
        return {"error": "No nearby weather station found"}
    
    parsed_date = parse_human_query(time_query)
    if not parsed_date:
        return {"error": "Invalid date format"}
    
    # Format the datetime as ISO 8601
    referencetime = parsed_date.strftime('%Y-%m-%dT%H:%M:%S') + 'Z'
    
    api_key = 'your_api_key'
    headers = {
        'Authorization': f'Bearer {api_key}'
    }
    endpoint = 'https://frost.met.no/observations/v0.jsonld'
    parameters = {
        'sources': source_id,
        'elements': 'air_temperature',
        'referencetime': referencetime
    }

    response = requests.get(endpoint, headers=headers, params=parameters)

    if response.status_code == 200:
        return response.json()
    else:
        return {"error": response.status_code}

# Example usage
city_name = "Oslo"
time_query = "yesterday"
weather_data = get_weather_data(city_name, time_query)
print(weather_data)
